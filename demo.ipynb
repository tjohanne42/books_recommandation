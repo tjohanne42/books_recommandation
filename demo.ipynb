{
 "cells": [
  {
   "cell_type": "code",
   "execution_count": null,
   "id": "daily-blocking",
   "metadata": {},
   "outputs": [],
   "source": [
    "#!pip install -r requirements.txt"
   ]
  },
  {
   "cell_type": "code",
   "execution_count": null,
   "id": "golden-imperial",
   "metadata": {},
   "outputs": [],
   "source": [
    "#!python setup_database.py"
   ]
  },
  {
   "cell_type": "code",
   "execution_count": 1,
   "id": "electric-account",
   "metadata": {},
   "outputs": [],
   "source": [
    "import recommendation as reco"
   ]
  },
  {
   "cell_type": "code",
   "execution_count": 2,
   "id": "informal-villa",
   "metadata": {},
   "outputs": [
    {
     "name": "stdout",
     "output_type": "stream",
     "text": [
      "Loading svd ...\n",
      "Done\n",
      "Loading corr ...\n",
      "Done\n",
      "Time to init: 63.71158003807068 sec\n"
     ]
    }
   ],
   "source": [
    "book_recommendation = reco.BookRecommendation(verbose=1)"
   ]
  },
  {
   "cell_type": "markdown",
   "id": "brown-sydney",
   "metadata": {},
   "source": [
    "## \"new_horizon\" in recommend_user:\n",
    "- False -> correlation -> most related to user's books\n",
    "- True -> SVD with surprise -> less related to user's books"
   ]
  },
  {
   "cell_type": "markdown",
   "id": "verbal-computer",
   "metadata": {},
   "source": [
    "# existing user"
   ]
  },
  {
   "cell_type": "code",
   "execution_count": 11,
   "id": "continent-diamond",
   "metadata": {},
   "outputs": [
    {
     "name": "stdout",
     "output_type": "stream",
     "text": [
      "The Shadow of the Wind (The Cemetery of Forgotten Books,  #1) 5\n",
      "The Kite Runner 5\n",
      "Ender's Game (Ender's Saga, #1) 5\n",
      "Antigone (The Theban Plays, #3) 5\n",
      "To Kill a Mockingbird 5\n",
      "Where the Wild Things Are 5\n",
      "Steve Jobs 5\n",
      "The Glass Castle 5\n",
      "The Alchemist 5\n",
      "The Death of Ivan Ilych 5\n",
      "My Brilliant Friend (The Neapolitan Novels #1) 5\n",
      "Divine Secrets of the Ya-Ya Sisterhood 5\n",
      "Peace Like a River 5\n",
      "The Story of a New Name (The Neapolitan Novels #2) 5\n",
      "Those Who Leave and Those Who Stay (The Neapolitan Novels #3) 5\n",
      "Gilead (Gilead, #1) 5\n",
      "Caleb's Crossing 5\n",
      "The Idiot 5\n",
      "Life of Pi 5\n",
      "The Paris Wife 5\n",
      "All the Light We Cannot See 5\n",
      "Crime and Punishment 5\n",
      "The Elegance of the Hedgehog 4\n",
      "Unaccustomed Earth 4\n",
      "The Poisonwood Bible 4\n",
      "East of Eden 4\n",
      "The Grapes of Wrath 4\n",
      "The Picture of Dorian Gray 4\n",
      "Little Bee 4\n",
      "The Chronicles of Narnia (Chronicles of Narnia, #1-7) 4\n",
      "War and Peace 4\n",
      "The Brothers Karamazov 4\n",
      "The Color Purple 4\n",
      "The Stranger 4\n",
      "Love in the Time of Cholera 4\n",
      "The Art of Fielding 4\n",
      "Midnight's Children 4\n",
      "A Man Without a Country 4\n",
      "The Help 4\n",
      "Moonwalking with Einstein: The Art and Science of Remembering Everything 4\n",
      "The Cat's Table 4\n",
      "The Forty Rules of Love 4\n",
      "Born on a Blue Day: Inside the Extraordinary Mind of an Autistic Savant 4\n",
      "People of the Book 4\n",
      "The Invention of Wings 4\n",
      "The Pillars of the Earth (The Kingsbridge Series, #1) 4\n",
      "World Without End (The Kingsbridge Series, #2) 4\n",
      "Year of Wonders 4\n",
      "Mystic River 4\n",
      "The Last Lecture 4\n",
      "The Giver (The Giver, #1) 4\n",
      "Jane Eyre 4\n",
      "Cry to Heaven 4\n",
      "Gone with the Wind 4\n",
      "Water for Elephants 4\n",
      "1984 4\n",
      "Of Mice and Men 4\n",
      "A Year in Provence 4\n",
      "Pride and Prejudice 4\n",
      "West with the Night 4\n",
      "Memoirs of a Geisha 4\n",
      "The Secret Life of Bees 3\n",
      "Beloved 3\n",
      "She's Come Undone 3\n",
      "The Clan of the Cave Bear (Earth's Children, #1) 3\n",
      "Little Women (Little Women, #1) 3\n",
      "Girl with a Pearl Earring 3\n",
      "The Shining (The Shining #1) 3\n",
      "Stories I Only Tell My Friends 3\n",
      "The Red Tent 3\n",
      "The Curious Incident of the Dog in the Night-Time 3\n",
      "The Unbearable Lightness of Being 3\n",
      "The Stone Diaries 3\n",
      "The Memory Keeper's Daughter 3\n",
      "Brunelleschi's Dome: How a Renaissance Genius Reinvented Architecture 3\n",
      "Reading Lolita in Tehran 3\n",
      "Big Little Lies 3\n",
      "Balzac and the Little Chinese Seamstress 3\n",
      "The Book Thief 3\n",
      "The History of Love 3\n",
      "Housekeeping 3\n",
      "The Sea 3\n",
      "Atonement 3\n",
      "The Count of Monte Cristo 3\n",
      "Middlesex 3\n",
      "The Girl with the Dragon Tattoo (Millennium, #1) 3\n",
      "The Hitchhiker's Guide to the Galaxy (Hitchhiker's Guide to the Galaxy, #1) 3\n",
      "The Five People You Meet in Heaven 3\n",
      "Three Cups of Tea: One Man's Mission to Promote Peace ... One School at a Time 3\n",
      "Snow Flower and the Secret Fan 3\n",
      "The Namesake 3\n",
      "Never Let Me Go 3\n",
      "The Girl Who Played with Fire (Millennium, #2) 3\n",
      "The Art of Racing in the Rain 3\n",
      "The Lovely Bones 3\n",
      "The Girl Who Kicked the Hornet's Nest (Millennium, #3) 3\n",
      "Three Junes 3\n",
      "A Prayer for Owen Meany 3\n",
      "A Thousand Splendid Suns 3\n",
      "The Giving Tree 3\n",
      "Sense and Sensibility 3\n",
      "Emma 3\n",
      "The Handmaid's Tale 3\n",
      "Sarah's Key 3\n",
      "Les Misérables 3\n",
      "The Fountainhead 3\n",
      "The Dante Club 2\n",
      "Running with Scissors 2\n",
      "The Time Traveler's Wife 2\n",
      "Angela's Ashes (Frank McCourt, #1) 2\n",
      "Bel Canto 2\n",
      "Eat, Pray, Love 2\n",
      "The Scarlet Letter 2\n",
      "Speaker for the Dead (Ender's Saga, #2) 2\n",
      "The Emperor's Children 1\n",
      "One Hundred Years of Solitude 1\n",
      "Atlas Shrugged 1\n"
     ]
    }
   ],
   "source": [
    "user_id = 1\n",
    "\n",
    "book_recommendation.show_user(user_id=user_id)"
   ]
  },
  {
   "cell_type": "code",
   "execution_count": 13,
   "id": "similar-landscape",
   "metadata": {},
   "outputs": [
    {
     "name": "stdout",
     "output_type": "stream",
     "text": [
      "\n",
      " ---------------- recommendations -----------------\n",
      "nb_books 10\n",
      "195 The Guernsey Literary and Potato Peel Pie Society\n",
      "597 Don Quixote\n",
      "1198 A Little Life\n",
      "4722 Toujours Provence\n",
      "5 The Great Gatsby\n",
      "1839 Look Me in the Eye: My Life with Asperger's\n",
      "763 The Bluest Eye\n",
      "824 Oedipus Rex  (The Theban Plays, #1)\n",
      "7260 The Feast of All Saints\n",
      "64 My Sister's Keeper\n",
      "\n",
      " ---------------------- end -----------------------\n"
     ]
    }
   ],
   "source": [
    "book_recommendation.recommend_user(user_id, n_books=10, new_horizon=False)\n",
    "#book_recommendation.recommend_user(user_id, n_books=10, new_horizon=True)"
   ]
  },
  {
   "cell_type": "markdown",
   "id": "wound-patient",
   "metadata": {},
   "source": [
    "# new user"
   ]
  },
  {
   "cell_type": "markdown",
   "id": "planned-cattle",
   "metadata": {},
   "source": [
    "## empty user"
   ]
  },
  {
   "cell_type": "code",
   "execution_count": 14,
   "id": "impaired-clock",
   "metadata": {},
   "outputs": [],
   "source": [
    "user_id = 1000000\n",
    "\n",
    "book_recommendation.add_ratings(user_id=user_id, book_id=[], rating=[])\n",
    "book_recommendation.show_user(user_id=user_id)"
   ]
  },
  {
   "cell_type": "code",
   "execution_count": 15,
   "id": "differential-daisy",
   "metadata": {},
   "outputs": [
    {
     "name": "stdout",
     "output_type": "stream",
     "text": [
      "\n",
      " ---------------- recommendations -----------------\n",
      "nb_books 10\n",
      "47 The Book Thief\n",
      "862 Words of Radiance (The Stormlight Archive, #2)\n",
      "267 The Nightingale\n",
      "18 Harry Potter and the Prisoner of Azkaban (Harry Potter, #3)\n",
      "21 Harry Potter and the Order of the Phoenix (Harry Potter, #5)\n",
      "155 The Two Towers (The Lord of the Rings, #2)\n",
      "307 The Wise Man's Fear (The Kingkiller Chronicle, #2)\n",
      "135 A Storm of Swords (A Song of Ice and Fire, #3)\n",
      "422 Harry Potter Boxset (Harry Potter, #1-7)\n",
      "25 Harry Potter and the Deathly Hallows (Harry Potter, #7)\n",
      "\n",
      " ---------------------- end -----------------------\n"
     ]
    }
   ],
   "source": [
    "book_recommendation.recommend_user(user_id, n_books=10, new_horizon=False)\n",
    "#book_recommendation.recommend_user(user_id, n_books=10, new_horizon=True)"
   ]
  },
  {
   "cell_type": "code",
   "execution_count": 7,
   "id": "systematic-timer",
   "metadata": {},
   "outputs": [],
   "source": [
    "book_recommendation.del_user(user_id=user_id)"
   ]
  },
  {
   "cell_type": "markdown",
   "id": "weekly-reunion",
   "metadata": {},
   "source": [
    "## non-empty user"
   ]
  },
  {
   "cell_type": "code",
   "execution_count": 8,
   "id": "revolutionary-wrestling",
   "metadata": {},
   "outputs": [
    {
     "name": "stdout",
     "output_type": "stream",
     "text": [
      "Harry Potter and the Sorcerer's Stone (Harry Potter, #1) 5\n",
      "Twilight (Twilight, #1) 5\n",
      "The Great Gatsby 5\n",
      "To Kill a Mockingbird 4\n",
      "The Hunger Games (The Hunger Games, #1) 3\n"
     ]
    }
   ],
   "source": [
    "user_id = 1000000\n",
    "\n",
    "book_recommendation.add_ratings(user_id=user_id, book_id=[1, 2, 3, 4, 5], rating=[3, 5, 5, 4, 5])\n",
    "book_recommendation.show_user(user_id=user_id)"
   ]
  },
  {
   "cell_type": "code",
   "execution_count": 9,
   "id": "beneficial-cologne",
   "metadata": {},
   "outputs": [
    {
     "name": "stdout",
     "output_type": "stream",
     "text": [
      "\n",
      " ---------------- recommendations -----------------\n",
      "nb_books 10\n",
      "19 The Fellowship of the Ring (The Lord of the Rings, #1)\n",
      "58 The Adventures of Huckleberry Finn\n",
      "43 Jane Eyre\n",
      "18 Harry Potter and the Prisoner of Azkaban (Harry Potter, #3)\n",
      "52 Eclipse (Twilight, #3)\n",
      "44 The Notebook (The Notebook, #1)\n",
      "13 1984\n",
      "27 Harry Potter and the Half-Blood Prince (Harry Potter, #6)\n",
      "8 The Catcher in the Rye\n",
      "14 Animal Farm\n",
      "\n",
      " ---------------------- end -----------------------\n"
     ]
    }
   ],
   "source": [
    "book_recommendation.recommend_user(user_id, n_books=10, new_horizon=False)\n",
    "#book_recommendation.recommend_user(user_id, n_books=10, new_horizon=True)"
   ]
  },
  {
   "cell_type": "code",
   "execution_count": 10,
   "id": "through-graduation",
   "metadata": {},
   "outputs": [],
   "source": [
    "book_recommendation.del_user(user_id=user_id)"
   ]
  },
  {
   "cell_type": "code",
   "execution_count": null,
   "id": "moderate-northwest",
   "metadata": {},
   "outputs": [],
   "source": []
  }
 ],
 "metadata": {
  "kernelspec": {
   "display_name": "Python 3",
   "language": "python",
   "name": "python3"
  },
  "language_info": {
   "codemirror_mode": {
    "name": "ipython",
    "version": 3
   },
   "file_extension": ".py",
   "mimetype": "text/x-python",
   "name": "python",
   "nbconvert_exporter": "python",
   "pygments_lexer": "ipython3",
   "version": "3.9.2"
  }
 },
 "nbformat": 4,
 "nbformat_minor": 5
}
